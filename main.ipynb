{
 "cells": [
  {
   "cell_type": "code",
   "execution_count": 2,
   "metadata": {},
   "outputs": [
    {
     "name": "stdout",
     "output_type": "stream",
     "text": [
      "Libraries imported successfully!\n"
     ]
    }
   ],
   "source": [
    "import os\n",
    "import numpy as np\n",
    "import cv2\n",
    "import tensorflow as tf\n",
    "from tensorflow.keras import layers, models, applications\n",
    "from tensorflow.keras.callbacks import EarlyStopping, ReduceLROnPlateau\n",
    "from sklearn.model_selection import train_test_split\n",
    "from tensorflow.keras.regularizers import l2\n",
    " \n",
    "print(\"Libraries imported successfully!\")"
   ]
  },
  {
   "cell_type": "code",
   "execution_count": 3,
   "metadata": {},
   "outputs": [
    {
     "name": "stdout",
     "output_type": "stream",
     "text": [
      "Dataset directory set to: C:\\Users\\USER\\Desktop\\Deepfake Detection\\FF++\n"
     ]
    }
   ],
   "source": [
    "dataset_dir = r'C:\\Users\\USER\\Desktop\\Deepfake Detection\\FF++'\n",
    "\n",
    "print(\"Dataset directory set to:\", dataset_dir)"
   ]
  },
  {
   "cell_type": "code",
   "execution_count": 4,
   "metadata": {},
   "outputs": [
    {
     "name": "stdout",
     "output_type": "stream",
     "text": [
      "Function to extract video frames with face detection is ready!\n"
     ]
    }
   ],
   "source": [
    "def load_video_frames(dataset_dir, frame_skip=30):\n",
    "    images = []\n",
    "    labels = []\n",
    "    \n",
    "    # Load face detector\n",
    "    face_cascade = cv2.CascadeClassifier(cv2.data.haarcascades + 'haarcascade_frontalface_default.xml')\n",
    "    \n",
    "    for folder in os.listdir(dataset_dir):\n",
    "        folder_path = os.path.join(dataset_dir, folder)\n",
    "        if os.path.isdir(folder_path):\n",
    "            print(f\"Processing folder: {folder}\")  # Debugging output\n",
    "            \n",
    "            for filename in os.listdir(folder_path):\n",
    "                if filename.endswith('.mp4'):  # Process only video files\n",
    "                    video_path = os.path.join(folder_path, filename)\n",
    "                    cap = cv2.VideoCapture(video_path)\n",
    "                    \n",
    "                    if not cap.isOpened():\n",
    "                        print(f\"Error opening video: {video_path}\")\n",
    "                        continue\n",
    "                    \n",
    "                    frame_count = 0\n",
    "                    while True:\n",
    "                        ret, frame = cap.read()\n",
    "                        if not ret:\n",
    "                            break  # Stop when the video ends\n",
    "                        \n",
    "                        # Process every 'frame_skip' frame to reduce redundancy\n",
    "                        if frame_count % frame_skip == 0:\n",
    "                            # Convert to grayscale for face detection\n",
    "                            gray = cv2.cvtColor(frame, cv2.COLOR_BGR2GRAY)\n",
    "                            \n",
    "                            # Detect faces\n",
    "                            faces = face_cascade.detectMultiScale(gray, 1.1, 4)\n",
    "                            \n",
    "                            # If faces are found, process them\n",
    "                            if len(faces) > 0:\n",
    "                                # Process the largest face\n",
    "                                x, y, w, h = sorted(faces, key=lambda x: x[2] * x[3], reverse=True)[0]\n",
    "                                \n",
    "                                # Add some margin\n",
    "                                margin = int(w * 0.2)\n",
    "                                x = max(0, x - margin)\n",
    "                                y = max(0, y - margin)\n",
    "                                w = min(frame.shape[1] - x, w + 2 * margin)\n",
    "                                h = min(frame.shape[0] - y, h + 2 * margin)\n",
    "                                \n",
    "                                # Extract face ROI\n",
    "                                face_roi = frame[y:y+h, x:x+w]\n",
    "                                \n",
    "                                # Resize face to standard size\n",
    "                                face_roi = cv2.resize(face_roi, (224, 224))\n",
    "                                \n",
    "                                # Apply data augmentation for fake samples to increase dataset diversity\n",
    "                                if 'fake' in folder:\n",
    "                                    # Original face\n",
    "                                    images.append(face_roi)\n",
    "                                    labels.append(1)  # 1 for fake\n",
    "                                    \n",
    "                                    # Slightly rotated face (5 degrees)\n",
    "                                    M = cv2.getRotationMatrix2D((face_roi.shape[1] / 2, face_roi.shape[0] / 2), 5, 1)\n",
    "                                    rotated = cv2.warpAffine(face_roi, M, (face_roi.shape[1], face_roi.shape[0]))\n",
    "                                    images.append(rotated)\n",
    "                                    labels.append(1)\n",
    "                                else:\n",
    "                                    images.append(face_roi)\n",
    "                                    labels.append(0)  # 0 for real\n",
    "                        \n",
    "                        frame_count += 1\n",
    "                    \n",
    "                    cap.release()\n",
    "    \n",
    "    print(f\"Total frames extracted: {len(images)}\")  # Debugging output\n",
    "    return np.array(images), np.array(labels)\n",
    "\n",
    "print(\"Function to extract video frames with face detection is ready!\")"
   ]
  },
  {
   "cell_type": "code",
   "execution_count": 5,
   "metadata": {},
   "outputs": [
    {
     "name": "stdout",
     "output_type": "stream",
     "text": [
      "Processing folder: fake\n",
      "Processing folder: real\n",
      "Total frames extracted: 14976\n",
      "Images shape: (14976, 224, 224, 3)\n",
      "Labels shape: (14976,)\n"
     ]
    }
   ],
   "source": [
    "images, labels = load_video_frames(dataset_dir)\n",
    "\n",
    "# Check if images are loaded correctly\n",
    "print(f\"Images shape: {images.shape}\")  # Should be (num_samples, 224, 224, 3)\n",
    "print(f\"Labels shape: {labels.shape}\")  # Should be (num_samples,)"
   ]
  },
  {
   "cell_type": "code",
   "execution_count": 6,
   "metadata": {},
   "outputs": [
    {
     "name": "stdout",
     "output_type": "stream",
     "text": [
      "Images normalized successfully!\n"
     ]
    }
   ],
   "source": [
    "images = images / 255.0  # Scale pixel values to [0, 1]\n",
    "print(\"Images normalized successfully!\")"
   ]
  },
  {
   "cell_type": "code",
   "execution_count": 7,
   "metadata": {},
   "outputs": [
    {
     "name": "stdout",
     "output_type": "stream",
     "text": [
      "X_train shape: (11980, 224, 224, 3), y_train shape: (11980,)\n",
      "X_test shape: (2996, 224, 224, 3), y_test shape: (2996,)\n"
     ]
    }
   ],
   "source": [
    "X_train, X_test, y_train, y_test = train_test_split(\n",
    "    images, labels, test_size=0.2, random_state=42, stratify=labels\n",
    ")\n",
    "\n",
    "# Check dataset shapes\n",
    "print(f\"X_train shape: {X_train.shape}, y_train shape: {y_train.shape}\")\n",
    "print(f\"X_test shape: {X_test.shape}, y_test shape: {y_test.shape}\")"
   ]
  },
  {
   "cell_type": "code",
   "execution_count": 8,
   "metadata": {},
   "outputs": [
    {
     "name": "stdout",
     "output_type": "stream",
     "text": [
      "Improved CNN model created successfully!\n"
     ]
    }
   ],
   "source": [
    "def build_improved_model():\n",
    "    # Use a pre-trained model (EfficientNetB0) as the base\n",
    "    base_model = applications.EfficientNetB0(\n",
    "        weights='imagenet',\n",
    "        include_top=False,\n",
    "        input_shape=(224, 224, 3)\n",
    "    )\n",
    "    \n",
    "    # Freeze the base model\n",
    "    base_model.trainable = False\n",
    "    \n",
    "    # Add custom layers on top\n",
    "    model = models.Sequential([\n",
    "        base_model,\n",
    "        layers.GlobalAveragePooling2D(),\n",
    "        layers.BatchNormalization(),\n",
    "        layers.Dropout(0.5),\n",
    "        layers.Dense(256, activation='relu', kernel_regularizer=l2(0.001)),\n",
    "        layers.BatchNormalization(),\n",
    "        layers.Dropout(0.3),\n",
    "        layers.Dense(1, activation='sigmoid')\n",
    "    ])\n",
    "    \n",
    "    # Compile the model with a lower learning rate\n",
    "    model.compile(\n",
    "        optimizer=tf.keras.optimizers.Adam(learning_rate=0.0001),\n",
    "        loss='binary_crossentropy',\n",
    "        metrics=['accuracy', \n",
    "                 tf.keras.metrics.Precision(name='precision'),\n",
    "                 tf.keras.metrics.Recall(name='recall'),\n",
    "                 tf.keras.metrics.AUC(name='auc')]\n",
    "    )\n",
    "    \n",
    "    return model\n",
    "\n",
    "# Create the model\n",
    "model = build_improved_model()\n",
    "print(\"Improved CNN model created successfully!\")\n"
   ]
  },
  {
   "cell_type": "code",
   "execution_count": 9,
   "metadata": {},
   "outputs": [
    {
     "data": {
      "text/html": [
       "<pre style=\"white-space:pre;overflow-x:auto;line-height:normal;font-family:Menlo,'DejaVu Sans Mono',consolas,'Courier New',monospace\"><span style=\"font-weight: bold\">Model: \"sequential\"</span>\n",
       "</pre>\n"
      ],
      "text/plain": [
       "\u001b[1mModel: \"sequential\"\u001b[0m\n"
      ]
     },
     "metadata": {},
     "output_type": "display_data"
    },
    {
     "data": {
      "text/html": [
       "<pre style=\"white-space:pre;overflow-x:auto;line-height:normal;font-family:Menlo,'DejaVu Sans Mono',consolas,'Courier New',monospace\">┏━━━━━━━━━━━━━━━━━━━━━━━━━━━━━━━━━┳━━━━━━━━━━━━━━━━━━━━━━━━┳━━━━━━━━━━━━━━━┓\n",
       "┃<span style=\"font-weight: bold\"> Layer (type)                    </span>┃<span style=\"font-weight: bold\"> Output Shape           </span>┃<span style=\"font-weight: bold\">       Param # </span>┃\n",
       "┡━━━━━━━━━━━━━━━━━━━━━━━━━━━━━━━━━╇━━━━━━━━━━━━━━━━━━━━━━━━╇━━━━━━━━━━━━━━━┩\n",
       "│ efficientnetb0 (<span style=\"color: #0087ff; text-decoration-color: #0087ff\">Functional</span>)     │ (<span style=\"color: #00d7ff; text-decoration-color: #00d7ff\">None</span>, <span style=\"color: #00af00; text-decoration-color: #00af00\">7</span>, <span style=\"color: #00af00; text-decoration-color: #00af00\">7</span>, <span style=\"color: #00af00; text-decoration-color: #00af00\">1280</span>)     │     <span style=\"color: #00af00; text-decoration-color: #00af00\">4,049,571</span> │\n",
       "├─────────────────────────────────┼────────────────────────┼───────────────┤\n",
       "│ global_average_pooling2d        │ (<span style=\"color: #00d7ff; text-decoration-color: #00d7ff\">None</span>, <span style=\"color: #00af00; text-decoration-color: #00af00\">1280</span>)           │             <span style=\"color: #00af00; text-decoration-color: #00af00\">0</span> │\n",
       "│ (<span style=\"color: #0087ff; text-decoration-color: #0087ff\">GlobalAveragePooling2D</span>)        │                        │               │\n",
       "├─────────────────────────────────┼────────────────────────┼───────────────┤\n",
       "│ batch_normalization             │ (<span style=\"color: #00d7ff; text-decoration-color: #00d7ff\">None</span>, <span style=\"color: #00af00; text-decoration-color: #00af00\">1280</span>)           │         <span style=\"color: #00af00; text-decoration-color: #00af00\">5,120</span> │\n",
       "│ (<span style=\"color: #0087ff; text-decoration-color: #0087ff\">BatchNormalization</span>)            │                        │               │\n",
       "├─────────────────────────────────┼────────────────────────┼───────────────┤\n",
       "│ dropout (<span style=\"color: #0087ff; text-decoration-color: #0087ff\">Dropout</span>)               │ (<span style=\"color: #00d7ff; text-decoration-color: #00d7ff\">None</span>, <span style=\"color: #00af00; text-decoration-color: #00af00\">1280</span>)           │             <span style=\"color: #00af00; text-decoration-color: #00af00\">0</span> │\n",
       "├─────────────────────────────────┼────────────────────────┼───────────────┤\n",
       "│ dense (<span style=\"color: #0087ff; text-decoration-color: #0087ff\">Dense</span>)                   │ (<span style=\"color: #00d7ff; text-decoration-color: #00d7ff\">None</span>, <span style=\"color: #00af00; text-decoration-color: #00af00\">256</span>)            │       <span style=\"color: #00af00; text-decoration-color: #00af00\">327,936</span> │\n",
       "├─────────────────────────────────┼────────────────────────┼───────────────┤\n",
       "│ batch_normalization_1           │ (<span style=\"color: #00d7ff; text-decoration-color: #00d7ff\">None</span>, <span style=\"color: #00af00; text-decoration-color: #00af00\">256</span>)            │         <span style=\"color: #00af00; text-decoration-color: #00af00\">1,024</span> │\n",
       "│ (<span style=\"color: #0087ff; text-decoration-color: #0087ff\">BatchNormalization</span>)            │                        │               │\n",
       "├─────────────────────────────────┼────────────────────────┼───────────────┤\n",
       "│ dropout_1 (<span style=\"color: #0087ff; text-decoration-color: #0087ff\">Dropout</span>)             │ (<span style=\"color: #00d7ff; text-decoration-color: #00d7ff\">None</span>, <span style=\"color: #00af00; text-decoration-color: #00af00\">256</span>)            │             <span style=\"color: #00af00; text-decoration-color: #00af00\">0</span> │\n",
       "├─────────────────────────────────┼────────────────────────┼───────────────┤\n",
       "│ dense_1 (<span style=\"color: #0087ff; text-decoration-color: #0087ff\">Dense</span>)                 │ (<span style=\"color: #00d7ff; text-decoration-color: #00d7ff\">None</span>, <span style=\"color: #00af00; text-decoration-color: #00af00\">1</span>)              │           <span style=\"color: #00af00; text-decoration-color: #00af00\">257</span> │\n",
       "└─────────────────────────────────┴────────────────────────┴───────────────┘\n",
       "</pre>\n"
      ],
      "text/plain": [
       "┏━━━━━━━━━━━━━━━━━━━━━━━━━━━━━━━━━┳━━━━━━━━━━━━━━━━━━━━━━━━┳━━━━━━━━━━━━━━━┓\n",
       "┃\u001b[1m \u001b[0m\u001b[1mLayer (type)                   \u001b[0m\u001b[1m \u001b[0m┃\u001b[1m \u001b[0m\u001b[1mOutput Shape          \u001b[0m\u001b[1m \u001b[0m┃\u001b[1m \u001b[0m\u001b[1m      Param #\u001b[0m\u001b[1m \u001b[0m┃\n",
       "┡━━━━━━━━━━━━━━━━━━━━━━━━━━━━━━━━━╇━━━━━━━━━━━━━━━━━━━━━━━━╇━━━━━━━━━━━━━━━┩\n",
       "│ efficientnetb0 (\u001b[38;5;33mFunctional\u001b[0m)     │ (\u001b[38;5;45mNone\u001b[0m, \u001b[38;5;34m7\u001b[0m, \u001b[38;5;34m7\u001b[0m, \u001b[38;5;34m1280\u001b[0m)     │     \u001b[38;5;34m4,049,571\u001b[0m │\n",
       "├─────────────────────────────────┼────────────────────────┼───────────────┤\n",
       "│ global_average_pooling2d        │ (\u001b[38;5;45mNone\u001b[0m, \u001b[38;5;34m1280\u001b[0m)           │             \u001b[38;5;34m0\u001b[0m │\n",
       "│ (\u001b[38;5;33mGlobalAveragePooling2D\u001b[0m)        │                        │               │\n",
       "├─────────────────────────────────┼────────────────────────┼───────────────┤\n",
       "│ batch_normalization             │ (\u001b[38;5;45mNone\u001b[0m, \u001b[38;5;34m1280\u001b[0m)           │         \u001b[38;5;34m5,120\u001b[0m │\n",
       "│ (\u001b[38;5;33mBatchNormalization\u001b[0m)            │                        │               │\n",
       "├─────────────────────────────────┼────────────────────────┼───────────────┤\n",
       "│ dropout (\u001b[38;5;33mDropout\u001b[0m)               │ (\u001b[38;5;45mNone\u001b[0m, \u001b[38;5;34m1280\u001b[0m)           │             \u001b[38;5;34m0\u001b[0m │\n",
       "├─────────────────────────────────┼────────────────────────┼───────────────┤\n",
       "│ dense (\u001b[38;5;33mDense\u001b[0m)                   │ (\u001b[38;5;45mNone\u001b[0m, \u001b[38;5;34m256\u001b[0m)            │       \u001b[38;5;34m327,936\u001b[0m │\n",
       "├─────────────────────────────────┼────────────────────────┼───────────────┤\n",
       "│ batch_normalization_1           │ (\u001b[38;5;45mNone\u001b[0m, \u001b[38;5;34m256\u001b[0m)            │         \u001b[38;5;34m1,024\u001b[0m │\n",
       "│ (\u001b[38;5;33mBatchNormalization\u001b[0m)            │                        │               │\n",
       "├─────────────────────────────────┼────────────────────────┼───────────────┤\n",
       "│ dropout_1 (\u001b[38;5;33mDropout\u001b[0m)             │ (\u001b[38;5;45mNone\u001b[0m, \u001b[38;5;34m256\u001b[0m)            │             \u001b[38;5;34m0\u001b[0m │\n",
       "├─────────────────────────────────┼────────────────────────┼───────────────┤\n",
       "│ dense_1 (\u001b[38;5;33mDense\u001b[0m)                 │ (\u001b[38;5;45mNone\u001b[0m, \u001b[38;5;34m1\u001b[0m)              │           \u001b[38;5;34m257\u001b[0m │\n",
       "└─────────────────────────────────┴────────────────────────┴───────────────┘\n"
      ]
     },
     "metadata": {},
     "output_type": "display_data"
    },
    {
     "data": {
      "text/html": [
       "<pre style=\"white-space:pre;overflow-x:auto;line-height:normal;font-family:Menlo,'DejaVu Sans Mono',consolas,'Courier New',monospace\"><span style=\"font-weight: bold\"> Total params: </span><span style=\"color: #00af00; text-decoration-color: #00af00\">4,383,908</span> (16.72 MB)\n",
       "</pre>\n"
      ],
      "text/plain": [
       "\u001b[1m Total params: \u001b[0m\u001b[38;5;34m4,383,908\u001b[0m (16.72 MB)\n"
      ]
     },
     "metadata": {},
     "output_type": "display_data"
    },
    {
     "data": {
      "text/html": [
       "<pre style=\"white-space:pre;overflow-x:auto;line-height:normal;font-family:Menlo,'DejaVu Sans Mono',consolas,'Courier New',monospace\"><span style=\"font-weight: bold\"> Trainable params: </span><span style=\"color: #00af00; text-decoration-color: #00af00\">331,265</span> (1.26 MB)\n",
       "</pre>\n"
      ],
      "text/plain": [
       "\u001b[1m Trainable params: \u001b[0m\u001b[38;5;34m331,265\u001b[0m (1.26 MB)\n"
      ]
     },
     "metadata": {},
     "output_type": "display_data"
    },
    {
     "data": {
      "text/html": [
       "<pre style=\"white-space:pre;overflow-x:auto;line-height:normal;font-family:Menlo,'DejaVu Sans Mono',consolas,'Courier New',monospace\"><span style=\"font-weight: bold\"> Non-trainable params: </span><span style=\"color: #00af00; text-decoration-color: #00af00\">4,052,643</span> (15.46 MB)\n",
       "</pre>\n"
      ],
      "text/plain": [
       "\u001b[1m Non-trainable params: \u001b[0m\u001b[38;5;34m4,052,643\u001b[0m (15.46 MB)\n"
      ]
     },
     "metadata": {},
     "output_type": "display_data"
    }
   ],
   "source": [
    "model.summary()\n"
   ]
  },
  {
   "cell_type": "code",
   "execution_count": 10,
   "metadata": {},
   "outputs": [
    {
     "name": "stdout",
     "output_type": "stream",
     "text": [
      "Training callbacks defined!\n"
     ]
    }
   ],
   "source": [
    "early_stopping = EarlyStopping(\n",
    "    monitor='val_loss',\n",
    "    patience=5,\n",
    "    restore_best_weights=True,\n",
    "    verbose=1\n",
    ")\n",
    "\n",
    "reduce_lr = ReduceLROnPlateau(\n",
    "    monitor='val_loss',\n",
    "    factor=0.2,\n",
    "    patience=3,\n",
    "    min_lr=1e-6,\n",
    "    verbose=1\n",
    ")\n",
    "\n",
    "callbacks = [early_stopping, reduce_lr]\n",
    "print(\"Training callbacks defined!\")"
   ]
  },
  {
   "cell_type": "code",
   "execution_count": 11,
   "metadata": {},
   "outputs": [
    {
     "name": "stdout",
     "output_type": "stream",
     "text": [
      "Epoch 1/20\n",
      "\u001b[1m599/599\u001b[0m \u001b[32m━━━━━━━━━━━━━━━━━━━━\u001b[0m\u001b[37m\u001b[0m \u001b[1m266s\u001b[0m 416ms/step - accuracy: 0.5150 - auc: 0.5074 - loss: 1.2998 - precision: 0.6264 - recall: 0.5589 - val_accuracy: 0.6427 - val_auc: 0.6987 - val_loss: 1.0591 - val_precision: 0.6427 - val_recall: 1.0000 - learning_rate: 1.0000e-04\n",
      "Epoch 2/20\n",
      "\u001b[1m599/599\u001b[0m \u001b[32m━━━━━━━━━━━━━━━━━━━━\u001b[0m\u001b[37m\u001b[0m \u001b[1m229s\u001b[0m 382ms/step - accuracy: 0.5443 - auc: 0.4982 - loss: 1.2116 - precision: 0.6236 - recall: 0.6865 - val_accuracy: 0.6427 - val_auc: 0.6963 - val_loss: 1.0376 - val_precision: 0.6427 - val_recall: 1.0000 - learning_rate: 1.0000e-04\n",
      "Epoch 3/20\n",
      "\u001b[1m599/599\u001b[0m \u001b[32m━━━━━━━━━━━━━━━━━━━━\u001b[0m\u001b[37m\u001b[0m \u001b[1m268s\u001b[0m 392ms/step - accuracy: 0.5559 - auc: 0.4961 - loss: 1.1740 - precision: 0.6217 - recall: 0.7317 - val_accuracy: 0.6427 - val_auc: 0.6985 - val_loss: 1.0203 - val_precision: 0.6427 - val_recall: 1.0000 - learning_rate: 1.0000e-04\n",
      "Epoch 4/20\n",
      "\u001b[1m599/599\u001b[0m \u001b[32m━━━━━━━━━━━━━━━━━━━━\u001b[0m\u001b[37m\u001b[0m \u001b[1m238s\u001b[0m 397ms/step - accuracy: 0.5742 - auc: 0.5182 - loss: 1.1255 - precision: 0.6326 - recall: 0.7662 - val_accuracy: 0.6427 - val_auc: 0.7154 - val_loss: 1.0042 - val_precision: 0.6427 - val_recall: 1.0000 - learning_rate: 1.0000e-04\n",
      "Epoch 5/20\n",
      "\u001b[1m599/599\u001b[0m \u001b[32m━━━━━━━━━━━━━━━━━━━━\u001b[0m\u001b[37m\u001b[0m \u001b[1m237s\u001b[0m 396ms/step - accuracy: 0.5582 - auc: 0.4943 - loss: 1.1186 - precision: 0.6247 - recall: 0.7504 - val_accuracy: 0.6427 - val_auc: 0.7380 - val_loss: 0.9903 - val_precision: 0.6427 - val_recall: 1.0000 - learning_rate: 1.0000e-04\n",
      "Epoch 6/20\n",
      "\u001b[1m599/599\u001b[0m \u001b[32m━━━━━━━━━━━━━━━━━━━━\u001b[0m\u001b[37m\u001b[0m \u001b[1m237s\u001b[0m 396ms/step - accuracy: 0.5829 - auc: 0.5249 - loss: 1.0646 - precision: 0.6355 - recall: 0.7905 - val_accuracy: 0.6427 - val_auc: 0.7300 - val_loss: 0.9706 - val_precision: 0.6427 - val_recall: 1.0000 - learning_rate: 1.0000e-04\n",
      "Epoch 7/20\n",
      "\u001b[1m599/599\u001b[0m \u001b[32m━━━━━━━━━━━━━━━━━━━━\u001b[0m\u001b[37m\u001b[0m \u001b[1m233s\u001b[0m 389ms/step - accuracy: 0.5668 - auc: 0.4950 - loss: 1.0648 - precision: 0.6240 - recall: 0.7826 - val_accuracy: 0.6427 - val_auc: 0.7219 - val_loss: 0.9532 - val_precision: 0.6427 - val_recall: 1.0000 - learning_rate: 1.0000e-04\n",
      "Epoch 8/20\n",
      "\u001b[1m599/599\u001b[0m \u001b[32m━━━━━━━━━━━━━━━━━━━━\u001b[0m\u001b[37m\u001b[0m \u001b[1m240s\u001b[0m 401ms/step - accuracy: 0.5883 - auc: 0.5302 - loss: 1.0197 - precision: 0.6348 - recall: 0.8000 - val_accuracy: 0.6427 - val_auc: 0.7264 - val_loss: 0.9399 - val_precision: 0.6427 - val_recall: 1.0000 - learning_rate: 1.0000e-04\n",
      "Epoch 9/20\n",
      "\u001b[1m599/599\u001b[0m \u001b[32m━━━━━━━━━━━━━━━━━━━━\u001b[0m\u001b[37m\u001b[0m \u001b[1m229s\u001b[0m 383ms/step - accuracy: 0.5849 - auc: 0.5183 - loss: 1.0085 - precision: 0.6307 - recall: 0.8126 - val_accuracy: 0.6427 - val_auc: 0.7226 - val_loss: 0.9220 - val_precision: 0.6427 - val_recall: 1.0000 - learning_rate: 1.0000e-04\n",
      "Epoch 10/20\n",
      "\u001b[1m599/599\u001b[0m \u001b[32m━━━━━━━━━━━━━━━━━━━━\u001b[0m\u001b[37m\u001b[0m \u001b[1m232s\u001b[0m 387ms/step - accuracy: 0.6036 - auc: 0.5372 - loss: 0.9683 - precision: 0.6443 - recall: 0.8351 - val_accuracy: 0.6427 - val_auc: 0.7105 - val_loss: 0.9051 - val_precision: 0.6427 - val_recall: 1.0000 - learning_rate: 1.0000e-04\n",
      "Epoch 11/20\n",
      "\u001b[1m599/599\u001b[0m \u001b[32m━━━━━━━━━━━━━━━━━━━━\u001b[0m\u001b[37m\u001b[0m \u001b[1m236s\u001b[0m 393ms/step - accuracy: 0.5891 - auc: 0.5268 - loss: 0.9555 - precision: 0.6328 - recall: 0.8231 - val_accuracy: 0.6427 - val_auc: 0.7246 - val_loss: 0.8881 - val_precision: 0.6427 - val_recall: 1.0000 - learning_rate: 1.0000e-04\n",
      "Epoch 12/20\n",
      "\u001b[1m599/599\u001b[0m \u001b[32m━━━━━━━━━━━━━━━━━━━━\u001b[0m\u001b[37m\u001b[0m \u001b[1m237s\u001b[0m 395ms/step - accuracy: 0.5912 - auc: 0.5038 - loss: 0.9445 - precision: 0.6348 - recall: 0.8330 - val_accuracy: 0.6427 - val_auc: 0.7248 - val_loss: 0.8731 - val_precision: 0.6427 - val_recall: 1.0000 - learning_rate: 1.0000e-04\n",
      "Epoch 13/20\n",
      "\u001b[1m599/599\u001b[0m \u001b[32m━━━━━━━━━━━━━━━━━━━━\u001b[0m\u001b[37m\u001b[0m \u001b[1m242s\u001b[0m 404ms/step - accuracy: 0.5983 - auc: 0.5261 - loss: 0.9177 - precision: 0.6382 - recall: 0.8432 - val_accuracy: 0.6427 - val_auc: 0.7237 - val_loss: 0.8568 - val_precision: 0.6427 - val_recall: 1.0000 - learning_rate: 1.0000e-04\n",
      "Epoch 14/20\n",
      "\u001b[1m599/599\u001b[0m \u001b[32m━━━━━━━━━━━━━━━━━━━━\u001b[0m\u001b[37m\u001b[0m \u001b[1m240s\u001b[0m 401ms/step - accuracy: 0.5951 - auc: 0.5338 - loss: 0.9010 - precision: 0.6288 - recall: 0.8504 - val_accuracy: 0.6427 - val_auc: 0.7272 - val_loss: 0.8429 - val_precision: 0.6427 - val_recall: 1.0000 - learning_rate: 1.0000e-04\n",
      "Epoch 15/20\n",
      "\u001b[1m599/599\u001b[0m \u001b[32m━━━━━━━━━━━━━━━━━━━━\u001b[0m\u001b[37m\u001b[0m \u001b[1m236s\u001b[0m 395ms/step - accuracy: 0.5940 - auc: 0.5191 - loss: 0.8838 - precision: 0.6290 - recall: 0.8603 - val_accuracy: 0.6427 - val_auc: 0.7021 - val_loss: 0.8291 - val_precision: 0.6427 - val_recall: 1.0000 - learning_rate: 1.0000e-04\n",
      "Epoch 16/20\n",
      "\u001b[1m599/599\u001b[0m \u001b[32m━━━━━━━━━━━━━━━━━━━━\u001b[0m\u001b[37m\u001b[0m \u001b[1m239s\u001b[0m 399ms/step - accuracy: 0.5961 - auc: 0.5281 - loss: 0.8667 - precision: 0.6286 - recall: 0.8638 - val_accuracy: 0.6427 - val_auc: 0.7120 - val_loss: 0.8157 - val_precision: 0.6427 - val_recall: 1.0000 - learning_rate: 1.0000e-04\n",
      "Epoch 17/20\n",
      "\u001b[1m599/599\u001b[0m \u001b[32m━━━━━━━━━━━━━━━━━━━━\u001b[0m\u001b[37m\u001b[0m \u001b[1m239s\u001b[0m 399ms/step - accuracy: 0.5855 - auc: 0.5194 - loss: 0.8619 - precision: 0.6171 - recall: 0.8654 - val_accuracy: 0.6427 - val_auc: 0.7178 - val_loss: 0.8036 - val_precision: 0.6427 - val_recall: 1.0000 - learning_rate: 1.0000e-04\n",
      "Epoch 18/20\n",
      "\u001b[1m599/599\u001b[0m \u001b[32m━━━━━━━━━━━━━━━━━━━━\u001b[0m\u001b[37m\u001b[0m \u001b[1m240s\u001b[0m 401ms/step - accuracy: 0.6103 - auc: 0.5351 - loss: 0.8337 - precision: 0.6405 - recall: 0.8798 - val_accuracy: 0.6427 - val_auc: 0.7255 - val_loss: 0.7905 - val_precision: 0.6427 - val_recall: 1.0000 - learning_rate: 1.0000e-04\n",
      "Epoch 19/20\n",
      "\u001b[1m599/599\u001b[0m \u001b[32m━━━━━━━━━━━━━━━━━━━━\u001b[0m\u001b[37m\u001b[0m \u001b[1m262s\u001b[0m 401ms/step - accuracy: 0.6062 - auc: 0.5312 - loss: 0.8219 - precision: 0.6360 - recall: 0.8824 - val_accuracy: 0.6427 - val_auc: 0.7132 - val_loss: 0.7798 - val_precision: 0.6427 - val_recall: 1.0000 - learning_rate: 1.0000e-04\n",
      "Epoch 20/20\n",
      "\u001b[1m599/599\u001b[0m \u001b[32m━━━━━━━━━━━━━━━━━━━━\u001b[0m\u001b[37m\u001b[0m \u001b[1m242s\u001b[0m 404ms/step - accuracy: 0.6106 - auc: 0.5455 - loss: 0.8040 - precision: 0.6333 - recall: 0.8989 - val_accuracy: 0.6427 - val_auc: 0.7162 - val_loss: 0.7686 - val_precision: 0.6427 - val_recall: 1.0000 - learning_rate: 1.0000e-04\n",
      "Restoring model weights from the end of the best epoch: 20.\n",
      "Model training completed!\n"
     ]
    }
   ],
   "source": [
    "history = model.fit(\n",
    "    X_train, y_train,\n",
    "    epochs=20,  \n",
    "    batch_size=16,\n",
    "    validation_split=0.2,\n",
    "    callbacks=callbacks,\n",
    "    verbose=1\n",
    ")\n",
    "print(\"Model training completed!\")"
   ]
  },
  {
   "cell_type": "code",
   "execution_count": null,
   "metadata": {},
   "outputs": [],
   "source": []
  },
  {
   "cell_type": "code",
   "execution_count": null,
   "metadata": {},
   "outputs": [
    {
     "name": "stdout",
     "output_type": "stream",
     "text": [
      "\u001b[1m94/94\u001b[0m \u001b[32m━━━━━━━━━━━━━━━━━━━━\u001b[0m\u001b[37m\u001b[0m \u001b[1m49s\u001b[0m 522ms/step - accuracy: 0.6359 - auc: 0.7349 - loss: 0.7729 - precision: 0.6359 - recall: 1.0000\n",
      "Test Loss: 0.7763\n",
      "Test Accuracy: 0.6305\n",
      "Test Precision: 0.6305\n",
      "Test Recall: 1.0000\n",
      "Test AUC: 0.7279\n"
     ]
    }
   ],
   "source": [
    "results = model.evaluate(X_test, y_test, verbose=1)\n",
    "print(f\"Test Loss: {results[0]:.4f}\")\n",
    "print(f\"Test Accuracy: {results[1]:.4f}\")\n",
    "print(f\"Test Precision: {results[2]:.4f}\")\n",
    "print(f\"Test Recall: {results[3]:.4f}\")\n",
    "print(f\"Test AUC: {results[4]:.4f}\")"
   ]
  },
  {
   "cell_type": "code",
   "execution_count": 13,
   "metadata": {},
   "outputs": [
    {
     "name": "stdout",
     "output_type": "stream",
     "text": [
      "Model saved as 'improved_deepfake_model.keras'\n"
     ]
    }
   ],
   "source": [
    "model.save('improved_deepfake_model.keras')\n",
    "print(\"Model saved as 'improved_deepfake_model.keras'\")"
   ]
  },
  {
   "cell_type": "code",
   "execution_count": 14,
   "metadata": {},
   "outputs": [
    {
     "data": {
      "image/png": "[encoded data removed]",
      "text/plain": [
       "<Figure size 1200x400 with 2 Axes>"
      ]
     },
     "metadata": {},
     "output_type": "display_data"
    }
   ],
   "source": [
    "import matplotlib.pyplot as plt\n",
    "\n",
    "plt.figure(figsize=(12, 4))\n",
    "\n",
    "# Plot training & validation accuracy\n",
    "plt.subplot(1, 2, 1)\n",
    "plt.plot(history.history['accuracy'])\n",
    "plt.plot(history.history['val_accuracy'])\n",
    "plt.title('Model accuracy')\n",
    "plt.ylabel('Accuracy')\n",
    "plt.xlabel('Epoch')\n",
    "plt.legend(['Train', 'Validation'], loc='upper left')\n",
    "\n",
    "# Plot training & validation loss\n",
    "plt.subplot(1, 2, 2)\n",
    "plt.plot(history.history['loss'])\n",
    "plt.plot(history.history['val_loss'])\n",
    "plt.title('Model loss')\n",
    "plt.ylabel('Loss')\n",
    "plt.xlabel('Epoch')\n",
    "plt.legend(['Train', 'Validation'], loc='upper left')\n",
    "\n",
    "plt.tight_layout()\n",
    "plt.show()"
   ]
  },
  {
   "cell_type": "code",
   "execution_count": 15,
   "metadata": {},
   "outputs": [],
   "source": [
    "model.save('saveModel.keras')"
   ]
  },
  {
   "cell_type": "code",
   "execution_count": 1,
   "metadata": {},
   "outputs": [],
   "source": [
    "import tensorflow as tf\n",
    "from tensorflow.keras.preprocessing import image\n",
    "from tensorflow.keras.applications.efficientnet import preprocess_input\n",
    "import numpy as np\n",
    "\n",
    "# Load model (provide your exact filename here)\n",
    "model = tf.keras.models.load_model(\"saveModel.keras\")\n",
    "\n",
    "# Optional: define class names if available\n",
    "# class_names = ['real', 'fake']  # Modify as per your dataset\n",
    "\n",
    "def predict_image_class(img_path):\n",
    "    # Load image and resize to model input size (typically 224x224 for EfficientNetB0)\n",
    "    img = image.load_img(img_path, target_size=(224, 224))\n",
    "    \n",
    "    # Convert to array\n",
    "    img_array = image.img_to_array(img)\n",
    "    \n",
    "    # Expand dimensions to match model input shape (1, 224, 224, 3)\n",
    "    img_array = np.expand_dims(img_array, axis=0)\n",
    "    \n",
    "    # Preprocess input for EfficientNetB0\n",
    "    img_array = preprocess_input(img_array)\n",
    "\n",
    "    # Make prediction\n",
    "    predictions = model.predict(img_array)\n",
    "    \n",
    "    # Assuming binary classification (real/fake)\n",
    "    predicted_class = int(predictions[0][0] > 0.2)  # 1 if >0.5, else 0\n",
    "\n",
    "    # If you have class names, return name instead\n",
    "    # return class_names[predicted_class]\n",
    "    \n",
    "    return predicted_class\n"
   ]
  },
  {
   "cell_type": "code",
   "execution_count": 6,
   "metadata": {},
   "outputs": [
    {
     "name": "stdout",
     "output_type": "stream",
     "text": [
      "\u001b[1m1/1\u001b[0m \u001b[32m━━━━━━━━━━━━━━━━━━━━\u001b[0m\u001b[37m\u001b[0m \u001b[1m0s\u001b[0m 115ms/step\n",
      "The image provided is real\n"
     ]
    }
   ],
   "source": [
    "result = predict_image_class(\"TC_real.jpg\")\n",
    "if result==0:\n",
    "    print(\"The image provided is a deepfake\")\n",
    "else:\n",
    "    print(\"The image provided is real\")"
   ]
  }
 ],
 "metadata": {
  "kernelspec": {
   "display_name": "deepvnv",
   "language": "python",
   "name": "python3"
  },
  "language_info": {
   "codemirror_mode": {
    "name": "ipython",
    "version": 3
   },
   "file_extension": ".py",
   "mimetype": "text/x-python",
   "name": "python",
   "nbconvert_exporter": "python",
   "pygments_lexer": "ipython3",
   "version": "3.11.9"
  }
 },
 "nbformat": 4,
 "nbformat_minor": 2
}
